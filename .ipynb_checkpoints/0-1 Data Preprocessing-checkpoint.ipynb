{
 "cells": [
  {
   "cell_type": "code",
   "execution_count": 2,
   "metadata": {},
   "outputs": [
    {
     "name": "stderr",
     "output_type": "stream",
     "text": [
      "Loading required package: Matrix\n",
      "\n",
      "Attaching package: ‘lme4’\n",
      "\n",
      "The following object is masked from ‘package:nlme’:\n",
      "\n",
      "    lmList\n",
      "\n"
     ]
    }
   ],
   "source": [
    "# Loading the necessary datasets\n",
    "library(haven)\n",
    "library(lme4)"
   ]
  },
  {
   "cell_type": "code",
   "execution_count": 10,
   "metadata": {},
   "outputs": [],
   "source": [
    "df <- data.frame(read_spss(\"popular2.sav\"))"
   ]
  },
  {
   "cell_type": "code",
   "execution_count": 11,
   "metadata": {},
   "outputs": [
    {
     "name": "stdout",
     "output_type": "stream",
     "text": [
      "'data.frame':\t2000 obs. of  7 variables:\n",
      " $ pupil   : atomic  1 2 3 4 5 6 7 8 9 10 ...\n",
      "  ..- attr(*, \"label\")= chr \"pupil ident\"\n",
      "  ..- attr(*, \"format.spss\")= chr \"F4.0\"\n",
      " $ class   : atomic  1 1 1 1 1 1 1 1 1 1 ...\n",
      "  ..- attr(*, \"label\")= chr \"class ident\"\n",
      "  ..- attr(*, \"format.spss\")= chr \"F4.0\"\n",
      " $ extrav  :Class 'labelled'  atomic [1:2000] 5 7 4 3 5 4 5 4 5 5 ...\n",
      "  .. ..- attr(*, \"label\")= chr \"extraversion\"\n",
      "  .. ..- attr(*, \"format.spss\")= chr \"F8.0\"\n",
      "  .. ..- attr(*, \"labels\")= Named num [1:2] 1 10\n",
      "  .. .. ..- attr(*, \"names\")= chr [1:2] \"lowest\" \"highest\"\n",
      " $ sex     :Class 'labelled'  atomic [1:2000] 1 0 1 1 1 0 0 0 0 0 ...\n",
      "  .. ..- attr(*, \"label\")= chr \"pupil sex\"\n",
      "  .. ..- attr(*, \"format.spss\")= chr \"F2.0\"\n",
      "  .. ..- attr(*, \"labels\")= Named num [1:2] 0 1\n",
      "  .. .. ..- attr(*, \"names\")= chr [1:2] \"boy\" \"girl\"\n",
      " $ texp    :Class 'labelled'  atomic [1:2000] 24 24 24 24 24 24 24 24 24 24 ...\n",
      "  .. ..- attr(*, \"label\")= chr \"teacher experience in years\"\n",
      "  .. ..- attr(*, \"format.spss\")= chr \"F3.0\"\n",
      "  .. ..- attr(*, \"labels\")= Named num [1:2] 2 25\n",
      "  .. .. ..- attr(*, \"names\")= chr [1:2] \"lowest\" \"highest\"\n",
      " $ popular :Class 'labelled'  atomic [1:2000] 6.3 4.9 5.3 4.7 6 4.7 5.9 4.2 5.2 3.9 ...\n",
      "  .. ..- attr(*, \"label\")= chr \"popularity sociometric score\"\n",
      "  .. ..- attr(*, \"format.spss\")= chr \"F8.1\"\n",
      "  .. ..- attr(*, \"labels\")= Named num [1:2] 0 10\n",
      "  .. .. ..- attr(*, \"names\")= chr [1:2] \"lowest possible\" \"highest possible\"\n",
      " $ popteach:Class 'labelled'  atomic [1:2000] 6 5 6 5 6 5 5 5 5 3 ...\n",
      "  .. ..- attr(*, \"label\")= chr \"popularity teacher evaluation\"\n",
      "  .. ..- attr(*, \"format.spss\")= chr \"F8.1\"\n",
      "  .. ..- attr(*, \"labels\")= Named num [1:2] 0 10\n",
      "  .. .. ..- attr(*, \"names\")= chr [1:2] \"lowest possible\" \"highest possible\"\n"
     ]
    }
   ],
   "source": [
    "str(df)"
   ]
  },
  {
   "cell_type": "code",
   "execution_count": 13,
   "metadata": {},
   "outputs": [],
   "source": [
    "df$class <- as.factor(df$class)\n",
    "df$extrav <- as.numeric(df$extrav)\n",
    "df$sex <- as.factor(df$sex)\n",
    "df$texp <- as.numeric(df$texp)\n",
    "df$popular <- as.numeric(df$popular)\n",
    "df$popteach <- as.numeric(df$popteach)"
   ]
  },
  {
   "cell_type": "code",
   "execution_count": 14,
   "metadata": {},
   "outputs": [
    {
     "name": "stdout",
     "output_type": "stream",
     "text": [
      "'data.frame':\t2000 obs. of  7 variables:\n",
      " $ pupil   : atomic  1 2 3 4 5 6 7 8 9 10 ...\n",
      "  ..- attr(*, \"label\")= chr \"pupil ident\"\n",
      "  ..- attr(*, \"format.spss\")= chr \"F4.0\"\n",
      " $ class   : Factor w/ 100 levels \"1\",\"2\",\"3\",\"4\",..: 1 1 1 1 1 1 1 1 1 1 ...\n",
      " $ extrav  : num  5 7 4 3 5 4 5 4 5 5 ...\n",
      " $ sex     : Factor w/ 2 levels \"0\",\"1\": 2 1 2 2 2 1 1 1 1 1 ...\n",
      " $ texp    : num  24 24 24 24 24 24 24 24 24 24 ...\n",
      " $ popular : num  6.3 4.9 5.3 4.7 6 4.7 5.9 4.2 5.2 3.9 ...\n",
      " $ popteach: num  6 5 6 5 6 5 5 5 5 3 ...\n"
     ]
    }
   ],
   "source": [
    "str(df)"
   ]
  },
  {
   "cell_type": "code",
   "execution_count": 15,
   "metadata": {},
   "outputs": [],
   "source": [
    "write.csv(df, file = '0-2 df_pupil.csv')"
   ]
  }
 ],
 "metadata": {
  "kernelspec": {
   "display_name": "R (R-Project)",
   "language": "r",
   "name": "ir"
  },
  "language_info": {
   "codemirror_mode": "r",
   "file_extension": ".r",
   "mimetype": "text/x-r-source",
   "name": "R",
   "pygments_lexer": "r",
   "version": "3.4.4"
  }
 },
 "nbformat": 4,
 "nbformat_minor": 2
}
